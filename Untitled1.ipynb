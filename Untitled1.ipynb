{
 "cells": [
  {
   "cell_type": "code",
   "execution_count": 2,
   "metadata": {},
   "outputs": [],
   "source": [
    "from one_shot_infer import SpertClinet, process_config\n",
    "from text2table_service import prettify"
   ]
  },
  {
   "cell_type": "code",
   "execution_count": 10,
   "metadata": {},
   "outputs": [],
   "source": [
    "config_path = \"configs/example_eval.conf\"\n",
    "run_args, run_config = process_config(config_path)\n",
    "spert = SpertClinet(run_args)"
   ]
  },
  {
   "cell_type": "code",
   "execution_count": 12,
   "metadata": {},
   "outputs": [
    {
     "name": "stderr",
     "output_type": "stream",
     "text": [
      "Evaluate epoch 0: 100%|██████████| 1/1 [00:00<00:00,  7.53it/s]\n"
     ]
    },
    {
     "data": {
      "text/plain": [
       "[{'Text': 'Apple Inc. is an American multinational technology company headquartered in California',\n",
       "  'DetectedRelations': ['OrgBased_In(Apple Inc.,California)']},\n",
       " {'Text': 'London is a capital of Great Britiain',\n",
       "  'DetectedRelations': ['Located_In(London,Great Britiain)']},\n",
       " {'Text': 'Alice worked at Starbucks',\n",
       "  'DetectedRelations': ['Work_For(Alice,Starbucks)']}]"
      ]
     },
     "execution_count": 12,
     "metadata": {},
     "output_type": "execute_result"
    }
   ],
   "source": [
    "text1 = \"Apple Inc. is an American multinational technology company headquartered in California\"\n",
    "text2 = \"London is a capital of Great Britiain\"\n",
    "text3 = \"Alice worked at Starbucks\"\n",
    "\n",
    "result = spert([text1, text2, text3])\n",
    "prettify(result)"
   ]
  },
  {
   "cell_type": "code",
   "execution_count": null,
   "metadata": {},
   "outputs": [],
   "source": []
  }
 ],
 "metadata": {
  "kernelspec": {
   "display_name": "venv",
   "language": "python",
   "name": "venv"
  },
  "language_info": {
   "codemirror_mode": {
    "name": "ipython",
    "version": 3
   },
   "file_extension": ".py",
   "mimetype": "text/x-python",
   "name": "python",
   "nbconvert_exporter": "python",
   "pygments_lexer": "ipython3",
   "version": "3.6.9"
  }
 },
 "nbformat": 4,
 "nbformat_minor": 4
}
